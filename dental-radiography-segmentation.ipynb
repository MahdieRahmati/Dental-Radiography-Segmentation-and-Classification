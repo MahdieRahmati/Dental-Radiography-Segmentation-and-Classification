{
 "cells": [
  {
   "cell_type": "markdown",
   "metadata": {},
   "source": [
    "# Download and Install SAM"
   ]
  },
  {
   "cell_type": "code",
   "execution_count": 1,
   "metadata": {
    "_cell_guid": "96668927-6c21-4585-9aea-79bf57076f54",
    "_uuid": "111833d3-f596-4d2c-b5c6-c80568773415",
    "collapsed": false,
    "execution": {
     "iopub.execute_input": "2024-08-07T10:07:10.019194Z",
     "iopub.status.busy": "2024-08-07T10:07:10.018527Z",
     "iopub.status.idle": "2024-08-07T10:07:35.932404Z",
     "shell.execute_reply": "2024-08-07T10:07:35.931298Z",
     "shell.execute_reply.started": "2024-08-07T10:07:10.019161Z"
    },
    "id": "skKETqo5E9Jl",
    "jupyter": {
     "outputs_hidden": false
    },
    "outputId": "53530339-3abe-46a3-ce95-e7485fc54d13"
   },
   "outputs": [
    {
     "name": "stdout",
     "output_type": "stream",
     "text": [
      "Collecting git+https://github.com/facebookresearch/segment-anything.git\n",
      "  Cloning https://github.com/facebookresearch/segment-anything.git to /tmp/pip-req-build-i4dvfhi6\n",
      "  Running command git clone --filter=blob:none --quiet https://github.com/facebookresearch/segment-anything.git /tmp/pip-req-build-i4dvfhi6\n",
      "  Resolved https://github.com/facebookresearch/segment-anything.git to commit 6fdee8f2727f4506cfbbe553e23b895e27956588\n",
      "  Preparing metadata (setup.py) ... \u001b[?25ldone\n",
      "\u001b[?25h--2024-08-07 10:07:26--  https://dl.fbaipublicfiles.com/segment_anything/sam_vit_h_4b8939.pth\n",
      "Resolving dl.fbaipublicfiles.com (dl.fbaipublicfiles.com)... 18.164.78.72, 18.164.78.121, 18.164.78.128, ...\n",
      "Connecting to dl.fbaipublicfiles.com (dl.fbaipublicfiles.com)|18.164.78.72|:443... connected.\n",
      "HTTP request sent, awaiting response... 200 OK\n",
      "Length: 2564550879 (2.4G) [binary/octet-stream]\n",
      "Saving to: 'sam_vit_h_4b8939.pth'\n",
      "\n",
      "sam_vit_h_4b8939.pt 100%[===================>]   2.39G   284MB/s    in 9.0s    \n",
      "\n",
      "2024-08-07 10:07:35 (271 MB/s) - 'sam_vit_h_4b8939.pth' saved [2564550879/2564550879]\n",
      "\n"
     ]
    }
   ],
   "source": [
    "!pip install git+https://github.com/facebookresearch/segment-anything.git\n",
    "!wget https://dl.fbaipublicfiles.com/segment_anything/sam_vit_h_4b8939.pth"
   ]
  },
  {
   "cell_type": "markdown",
   "metadata": {},
   "source": [
    "# Imports "
   ]
  },
  {
   "cell_type": "code",
   "execution_count": 2,
   "metadata": {
    "_cell_guid": "9189c55f-28eb-42ae-bbb5-566653bf84d9",
    "_uuid": "b5ed4818-9c33-495c-8644-e7e013a70a6e",
    "collapsed": false,
    "execution": {
     "iopub.execute_input": "2024-08-06T19:54:26.607040Z",
     "iopub.status.busy": "2024-08-06T19:54:26.606570Z",
     "iopub.status.idle": "2024-08-06T19:54:32.830368Z",
     "shell.execute_reply": "2024-08-06T19:54:32.829614Z",
     "shell.execute_reply.started": "2024-08-06T19:54:26.607003Z"
    },
    "id": "P2eeTW_5GMrP",
    "jupyter": {
     "outputs_hidden": false
    },
    "outputId": "2908acbc-6450-4ac9-ef5a-723644ca035a"
   },
   "outputs": [],
   "source": [
    "import torch\n",
    "import torchvision\n",
    "import sys\n",
    "import cv2\n",
    "import matplotlib.pyplot as plt\n",
    "import os\n",
    "import numpy as np \n",
    "import pandas as pd \n",
    "from PIL import Image\n",
    "from segment_anything import sam_model_registry, SamAutomaticMaskGenerator, SamPredictor\n",
    "import zipfile"
   ]
  },
  {
   "cell_type": "markdown",
   "metadata": {},
   "source": [
    "# Create New Dataset Directories "
   ]
  },
  {
   "cell_type": "code",
   "execution_count": 7,
   "metadata": {
    "execution": {
     "iopub.execute_input": "2024-08-07T10:15:50.688618Z",
     "iopub.status.busy": "2024-08-07T10:15:50.687917Z",
     "iopub.status.idle": "2024-08-07T10:15:50.693400Z",
     "shell.execute_reply": "2024-08-07T10:15:50.692333Z",
     "shell.execute_reply.started": "2024-08-07T10:15:50.688575Z"
    }
   },
   "outputs": [
    {
     "name": "stdout",
     "output_type": "stream",
     "text": [
      "\n"
     ]
    }
   ],
   "source": [
    "directory = os.path.join(\"/kaggle/working/\", \"Segmented Dental Radiography\")\n",
    "os.makedirs(directory, exist_ok=True)"
   ]
  },
  {
   "cell_type": "code",
   "execution_count": 8,
   "metadata": {
    "execution": {
     "iopub.execute_input": "2024-08-07T10:16:22.917502Z",
     "iopub.status.busy": "2024-08-07T10:16:22.917084Z",
     "iopub.status.idle": "2024-08-07T10:16:22.922098Z",
     "shell.execute_reply": "2024-08-07T10:16:22.921187Z",
     "shell.execute_reply.started": "2024-08-07T10:16:22.917470Z"
    }
   },
   "outputs": [
    {
     "name": "stdout",
     "output_type": "stream",
     "text": [
      "\n"
     ]
    }
   ],
   "source": [
    "df = pd.read_csv(\"/kaggle/input/dental-radiography/train/_annotations.csv\")\n",
    "classes = df['class'].unique()\n",
    "classes = list(classes)\n",
    "classes.append(\"Normal\")\n",
    "\n",
    "for i in range(len(classes)):\n",
    "    os.makedirs(os.path.join(\"/kaggle/working/Segmented Dental Radiography/train\", classes[i]), exist_ok=True)\n",
    "    os.makedirs(os.path.join(\"/kaggle/working/Segmented Dental Radiography/test\", classes[i]), exist_ok=True)\n",
    "    os.makedirs(os.path.join(\"/kaggle/working/Segmented Dental Radiography/valid\", classes[i]), exist_ok=True)"
   ]
  },
  {
   "cell_type": "markdown",
   "metadata": {},
   "source": [
    "# Function for Getting Mask Bounding Box"
   ]
  },
  {
   "cell_type": "code",
   "execution_count": 9,
   "metadata": {
    "execution": {
     "iopub.execute_input": "2024-08-07T10:16:29.130728Z",
     "iopub.status.busy": "2024-08-07T10:16:29.129965Z",
     "iopub.status.idle": "2024-08-07T10:16:29.135615Z",
     "shell.execute_reply": "2024-08-07T10:16:29.134553Z",
     "shell.execute_reply.started": "2024-08-07T10:16:29.130695Z"
    }
   },
   "outputs": [
    {
     "name": "stdout",
     "output_type": "stream",
     "text": [
      "\n"
     ]
    }
   ],
   "source": [
    "def get_bounding_box(mask):\n",
    "\n",
    "    coords = np.column_stack(np.where(mask))\n",
    "    \n",
    "    if coords.size == 0:\n",
    "        return (0, 0, 0, 0)\n",
    "\n",
    "    y_min, x_min = coords.min(axis=0)\n",
    "    y_max, x_max = coords.max(axis=0)\n",
    "    \n",
    "    return (x_min, y_min, x_max, y_max)"
   ]
  },
  {
   "cell_type": "markdown",
   "metadata": {},
   "source": [
    "# Function for Zipping Folder "
   ]
  },
  {
   "cell_type": "code",
   "execution_count": 10,
   "metadata": {
    "execution": {
     "iopub.execute_input": "2024-08-07T10:16:31.543976Z",
     "iopub.status.busy": "2024-08-07T10:16:31.543604Z",
     "iopub.status.idle": "2024-08-07T10:16:31.549341Z",
     "shell.execute_reply": "2024-08-07T10:16:31.548271Z",
     "shell.execute_reply.started": "2024-08-07T10:16:31.543944Z"
    }
   },
   "outputs": [
    {
     "name": "stdout",
     "output_type": "stream",
     "text": [
      "\n"
     ]
    }
   ],
   "source": [
    "def zip_folder(folder_path):\n",
    "    zip_file_path = f\"{folder_path}.zip\"\n",
    "    with zipfile.ZipFile(zip_file_path, 'w', zipfile.ZIP_DEFLATED) as zipf:\n",
    "        for root, _, files in os.walk(folder_path):\n",
    "            for file in files:\n",
    "                file_path = os.path.join(root, file)\n",
    "                arcname = os.path.relpath(file_path, start=os.path.dirname(folder_path))\n",
    "                zipf.write(file_path, arcname)"
   ]
  },
  {
   "cell_type": "markdown",
   "metadata": {},
   "source": [
    "# Function for Creating New Dataset Using SAM\n",
    "- segment the annotated unhealthy teeth using SAM predictor\n",
    "- segment healthy teeth using SAM automatic mask generator after blacking out unhealthy areas "
   ]
  },
  {
   "cell_type": "code",
   "execution_count": 11,
   "metadata": {
    "execution": {
     "iopub.execute_input": "2024-08-07T10:16:39.998505Z",
     "iopub.status.busy": "2024-08-07T10:16:39.998084Z",
     "iopub.status.idle": "2024-08-07T10:16:40.003592Z",
     "shell.execute_reply": "2024-08-07T10:16:40.002548Z",
     "shell.execute_reply.started": "2024-08-07T10:16:39.998463Z"
    }
   },
   "outputs": [
    {
     "name": "stdout",
     "output_type": "stream",
     "text": [
      "\n"
     ]
    }
   ],
   "source": [
    "def create_data(folder_path_1, folder_path_2, annotation):\n",
    "    df = pd.read_csv(annotation)\n",
    "    \n",
    "    for filename in os.listdir(folder_path_1):\n",
    "        if filename.endswith(('.jpg')): \n",
    "\n",
    "            image_path = os.path.join(folder_path_1, filename)\n",
    "            image = cv2.imread(image_path)\n",
    "            image = cv2.cvtColor(image, cv2.COLOR_BGR2RGB)\n",
    "            result = df[df['filename'] == filename]\n",
    "\n",
    "            for i in range(len(result)):\n",
    "                input_box = np.array([result.iloc[i][\"xmin\"], result.iloc[i][\"ymin\"], result.iloc[i][\"xmax\"], result.iloc[i][\"ymax\"]])\n",
    "                \n",
    "                predictor.set_image(image)\n",
    "                masks, _, _ = predictor.predict(\n",
    "                    point_coords=None,\n",
    "                    point_labels=None,\n",
    "                    box=input_box[None, :],\n",
    "                    multimask_output=False,\n",
    "                )\n",
    "      \n",
    "                x_min, y_min, x_max, y_max = get_bounding_box(masks[0])\n",
    "                \n",
    "                \n",
    "                # Ensure cropping coordinates are within image bounds\n",
    "                x_min = max(x_min, 0)\n",
    "                y_min = max(y_min, 0)\n",
    "                x_max = min(x_max, image.shape[1] - 1)\n",
    "                y_max = min(y_max, image.shape[0] - 1)\n",
    "\n",
    "\n",
    "                cropped_image = image[y_min:y_max + 1, x_min:x_max + 1]\n",
    "                cropped_image_pil = Image.fromarray(cropped_image)\n",
    "                resized_image = cropped_image_pil.resize((64, 64))\n",
    "                resized_image.save(os.path.join(folder_path_2, result.iloc[i][\"class\"], filename[:-4] + f'_{i}.jpg'))\n",
    "                \n",
    "                \n",
    "                \n",
    "            for i in range(len(result)):\n",
    "                input_box = np.array([result.iloc[i][\"xmin\"], result.iloc[i][\"ymin\"], result.iloc[i][\"xmax\"], result.iloc[i][\"ymax\"]])\n",
    "                # Ensure coordinates are within image bounds\n",
    "                x_min = max(input_box[0], 0)\n",
    "                y_min = max(input_box[1], 0)\n",
    "                x_max = min(input_box[2], image.shape[1] - 1)\n",
    "                y_max = min(input_box[3], image.shape[0] - 1)\n",
    "    \n",
    "                image[y_min:y_max + 1, x_min:x_max + 1] = 0\n",
    "                \n",
    "\n",
    "            masks = mask_generator.generate(image)\n",
    "            \n",
    "            for i in range(len(masks)):\n",
    "            \n",
    "                x_min, y_min, x_max, y_max = get_bounding_box(masks[i][\"segmentation\"])\n",
    "                        \n",
    "                # Ensure cropping coordinates are within image bounds\n",
    "                x_min = max(x_min, 0)\n",
    "                y_min = max(y_min, 0)\n",
    "                x_max = min(x_max, image.shape[1] - 1)\n",
    "                y_max = min(y_max, image.shape[0] - 1)\n",
    "\n",
    "                cropped_image = image[y_min:y_max + 1, x_min:x_max + 1]\n",
    "            \n",
    "                if not (cropped_image.shape[0] > 100 or cropped_image.shape[1] > 100):\n",
    "                    if np.sum(cropped_image == 0) < 0.6 * cropped_image.shape[0] * cropped_image.shape[1]:\n",
    "                        cropped_image_pil = Image.fromarray(cropped_image)\n",
    "                        resized_image = cropped_image_pil.resize((64, 64))\n",
    "                        resized_image.save(os.path.join(folder_path_2, \"Normal\", filename[:-4] + f'_{i}.jpg'))"
   ]
  },
  {
   "cell_type": "markdown",
   "metadata": {},
   "source": [
    "# Initializing SAM Predictor and Automatic Mask Generator "
   ]
  },
  {
   "cell_type": "code",
   "execution_count": 12,
   "metadata": {
    "execution": {
     "iopub.execute_input": "2024-08-07T10:16:45.785146Z",
     "iopub.status.busy": "2024-08-07T10:16:45.784431Z",
     "iopub.status.idle": "2024-08-07T10:16:45.789832Z",
     "shell.execute_reply": "2024-08-07T10:16:45.788890Z",
     "shell.execute_reply.started": "2024-08-07T10:16:45.785091Z"
    }
   },
   "outputs": [
    {
     "name": "stdout",
     "output_type": "stream",
     "text": [
      "\n"
     ]
    }
   ],
   "source": [
    "sam = sam_model_registry[\"default\"](checkpoint=\"/kaggle/working/sam_vit_h_4b8939.pth\")\n",
    "device = \"cuda\"\n",
    "sam.to(device=device)\n",
    "\n",
    "predictor = SamPredictor(sam)\n",
    "mask_generator = SamAutomaticMaskGenerator(sam)"
   ]
  },
  {
   "cell_type": "markdown",
   "metadata": {},
   "source": [
    "# Create and zipping Dataset Using Above Functions"
   ]
  },
  {
   "cell_type": "code",
   "execution_count": 13,
   "metadata": {
    "execution": {
     "iopub.execute_input": "2024-08-07T10:16:50.809050Z",
     "iopub.status.busy": "2024-08-07T10:16:50.808240Z",
     "iopub.status.idle": "2024-08-07T10:16:50.813832Z",
     "shell.execute_reply": "2024-08-07T10:16:50.812710Z",
     "shell.execute_reply.started": "2024-08-07T10:16:50.809017Z"
    }
   },
   "outputs": [
    {
     "name": "stdout",
     "output_type": "stream",
     "text": [
      "\n"
     ]
    }
   ],
   "source": [
    "create_data(\"/kaggle/input/dental-radiography/test\" , \"/kaggle/working/Segmented Dental Radiographytest\" ,\"/kaggle/input/dental-radiography/test/_annotations.csv\" )\n",
    "create_data(\"/kaggle/input/dental-radiography/valid\" , \"/kaggle/working/Segmented Dental Radiography/valid\" ,\"/kaggle/input/dental-radiography/valid/_annotations.csv\" )\n",
    "create_data(\"/kaggle/input/dental-radiography/train\" , \"/kaggle/working/Segmented Dental Radiography/train\" ,\"/kaggle/input/dental-radiography/train/_annotations.csv\" )\n",
    "zip_folder(\"/kaggle/working/Segmented Dental Radiography\")"
   ]
  }
 ],
 "metadata": {
  "accelerator": "GPU",
  "colab": {
   "gpuType": "T4",
   "provenance": []
  },
  "gpuClass": "standard",
  "kaggle": {
   "accelerator": "nvidiaTeslaT4",
   "dataSources": [
    {
     "datasetId": 3827977,
     "sourceId": 6631112,
     "sourceType": "datasetVersion"
    }
   ],
   "isGpuEnabled": true,
   "isInternetEnabled": true,
   "language": "python",
   "sourceType": "notebook"
  },
  "kernelspec": {
   "display_name": "Python 3 (ipykernel)",
   "language": "python",
   "name": "python3"
  },
  "language_info": {
   "codemirror_mode": {
    "name": "ipython",
    "version": 3
   },
   "file_extension": ".py",
   "mimetype": "text/x-python",
   "name": "python",
   "nbconvert_exporter": "python",
   "pygments_lexer": "ipython3",
   "version": "3.10.6"
  }
 },
 "nbformat": 4,
 "nbformat_minor": 4
}
